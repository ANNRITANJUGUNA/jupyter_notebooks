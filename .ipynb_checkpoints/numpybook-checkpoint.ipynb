{
 "cells": [
  {
   "cell_type": "code",
   "execution_count": 1,
   "id": "d5d228c2",
   "metadata": {},
   "outputs": [],
   "source": [
    "import numpy as np"
   ]
  },
  {
   "cell_type": "code",
   "execution_count": 2,
   "id": "81b798cc",
   "metadata": {},
   "outputs": [],
   "source": [
    "arr=np.array([[-1,2,0,4],\n",
    "             [4,-0.5,6,0],\n",
    "             [2.6,0,7,8],[3,-7,4,2.0]])"
   ]
  },
  {
   "cell_type": "code",
   "execution_count": 26,
   "id": "728bef03",
   "metadata": {},
   "outputs": [],
   "source": [
    "temp=arr[:1,::1]"
   ]
  },
  {
   "cell_type": "code",
   "execution_count": 27,
   "id": "72162aee",
   "metadata": {},
   "outputs": [
    {
     "data": {
      "text/plain": [
       "array([[-1.,  2.,  0.,  4.]])"
      ]
     },
     "execution_count": 27,
     "metadata": {},
     "output_type": "execute_result"
    }
   ],
   "source": [
    "temp"
   ]
  },
  {
   "cell_type": "code",
   "execution_count": 28,
   "id": "0397ac34",
   "metadata": {},
   "outputs": [
    {
     "data": {
      "text/plain": [
       "8.0"
      ]
     },
     "execution_count": 28,
     "metadata": {},
     "output_type": "execute_result"
    }
   ],
   "source": [
    "arr.max()"
   ]
  },
  {
   "cell_type": "code",
   "execution_count": 29,
   "id": "e24082d4",
   "metadata": {},
   "outputs": [
    {
     "data": {
      "text/plain": [
       "array([4., 6., 8., 4.])"
      ]
     },
     "execution_count": 29,
     "metadata": {},
     "output_type": "execute_result"
    }
   ],
   "source": [
    "arr.max(axis=1)"
   ]
  },
  {
   "cell_type": "code",
   "execution_count": 34,
   "id": "0c30283f",
   "metadata": {},
   "outputs": [],
   "source": [
    "res=arr.mean(axis=1)"
   ]
  },
  {
   "cell_type": "raw",
   "id": "cf89fa23",
   "metadata": {},
   "source": []
  }
 ],
 "metadata": {
  "kernelspec": {
   "display_name": "Python 3 (ipykernel)",
   "language": "python",
   "name": "python3"
  },
  "language_info": {
   "codemirror_mode": {
    "name": "ipython",
    "version": 3
   },
   "file_extension": ".py",
   "mimetype": "text/x-python",
   "name": "python",
   "nbconvert_exporter": "python",
   "pygments_lexer": "ipython3",
   "version": "3.10.9"
  }
 },
 "nbformat": 4,
 "nbformat_minor": 5
}
