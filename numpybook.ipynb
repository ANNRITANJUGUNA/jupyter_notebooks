{
 "cells": [
  {
   "cell_type": "code",
   "execution_count": 1,
   "id": "731a6444",
   "metadata": {},
   "outputs": [],
   "source": [
    "import numpy as np"
   ]
  },
  {
   "cell_type": "code",
   "execution_count": 43,
   "id": "825905ee",
   "metadata": {},
   "outputs": [],
   "source": [
    "arr=np.array([[-1,2,0,4],\n",
    "             [4,-0.5,6,0],\n",
    "             [2.6,0,7,8],[3,-7,4,2.0]],)"
   ]
  },
  {
   "cell_type": "code",
   "execution_count": 44,
   "id": "f5219a1e",
   "metadata": {},
   "outputs": [],
   "source": [
    "temp=arr[:1,::1]"
   ]
  },
  {
   "cell_type": "code",
   "execution_count": 45,
   "id": "3ccd697a",
   "metadata": {},
   "outputs": [
    {
     "data": {
      "text/plain": [
       "array([[-1,  2,  0,  4]])"
      ]
     },
     "execution_count": 45,
     "metadata": {},
     "output_type": "execute_result"
    }
   ],
   "source": [
    "temp"
   ]
  },
  {
   "cell_type": "code",
   "execution_count": 46,
   "id": "3acb5f1a",
   "metadata": {},
   "outputs": [
    {
     "data": {
      "text/plain": [
       "8"
      ]
     },
     "execution_count": 46,
     "metadata": {},
     "output_type": "execute_result"
    }
   ],
   "source": [
    "arr.max()"
   ]
  },
  {
   "cell_type": "code",
   "execution_count": 47,
   "id": "b520d49d",
   "metadata": {},
   "outputs": [
    {
     "data": {
      "text/plain": [
       "array([4, 6, 8, 4])"
      ]
     },
     "execution_count": 47,
     "metadata": {},
     "output_type": "execute_result"
    }
   ],
   "source": [
    "arr.max(axis=1)"
   ]
  },
  {
   "cell_type": "code",
   "execution_count": 52,
   "id": "66470d89",
   "metadata": {},
   "outputs": [],
   "source": [
    "res=arr.mean(axis=1,dtype='int')"
   ]
  },
  {
   "cell_type": "code",
   "execution_count": 55,
   "id": "d6f34f94",
   "metadata": {},
   "outputs": [
    {
     "data": {
      "text/plain": [
       "array([1, 2, 4, 0])"
      ]
     },
     "execution_count": 55,
     "metadata": {},
     "output_type": "execute_result"
    }
   ],
   "source": [
    "res"
   ]
  },
  {
   "cell_type": "code",
   "execution_count": 56,
   "id": "9ad6c15c",
   "metadata": {},
   "outputs": [],
   "source": [
    "kim=list(res)"
   ]
  },
  {
   "cell_type": "code",
   "execution_count": 57,
   "id": "f30a56c3",
   "metadata": {},
   "outputs": [
    {
     "data": {
      "text/plain": [
       "[1, 2, 4, 0]"
      ]
     },
     "execution_count": 57,
     "metadata": {},
     "output_type": "execute_result"
    }
   ],
   "source": [
    "kim"
   ]
  },
  {
   "cell_type": "code",
   "execution_count": null,
   "id": "3c44c545",
   "metadata": {},
   "outputs": [],
   "source": []
  }
 ],
 "metadata": {
  "kernelspec": {
   "display_name": "Python 3 (ipykernel)",
   "language": "python",
   "name": "python3"
  },
  "language_info": {
   "codemirror_mode": {
    "name": "ipython",
    "version": 3
   },
   "file_extension": ".py",
   "mimetype": "text/x-python",
   "name": "python",
   "nbconvert_exporter": "python",
   "pygments_lexer": "ipython3",
   "version": "3.10.9"
  }
 },
 "nbformat": 4,
 "nbformat_minor": 5
}
