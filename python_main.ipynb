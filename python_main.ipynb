{
 "cells": [
  {
   "cell_type": "code",
   "execution_count": 1,
   "id": "c12b9c73",
   "metadata": {},
   "outputs": [],
   "source": [
    "vals=[[45,60,81,70],[90,80,61,88],[22,30,42,24],[92,62,33,44]]"
   ]
  },
  {
   "cell_type": "code",
   "execution_count": 4,
   "id": "a5178e6c",
   "metadata": {},
   "outputs": [
    {
     "data": {
      "text/plain": [
       "[[45, 60, 81, 70], [90, 80, 61, 88], [22, 30, 42, 24], [92, 62, 33, 44]]"
      ]
     },
     "execution_count": 4,
     "metadata": {},
     "output_type": "execute_result"
    }
   ],
   "source": [
    "vals"
   ]
  },
  {
   "cell_type": "code",
   "execution_count": 29,
   "id": "8186f48f",
   "metadata": {},
   "outputs": [],
   "source": [
    "for i in vals:\n",
    "    total_average=[]\n",
    "    tot_avg=(sum(vals[0])/len(vals[0])),(sum(vals[1])/len(vals[1])),(sum(vals[2])/len(vals[2])),(sum(vals[3])/len(vals[3]))\n",
    "    total_average.append(tot_avg)\n",
    "    "
   ]
  },
  {
   "cell_type": "code",
   "execution_count": 30,
   "id": "2e0b8829",
   "metadata": {},
   "outputs": [
    {
     "data": {
      "text/plain": [
       "[(64.0, 79.75, 29.5, 57.75)]"
      ]
     },
     "execution_count": 30,
     "metadata": {},
     "output_type": "execute_result"
    }
   ],
   "source": [
    "total_average"
   ]
  },
  {
   "cell_type": "code",
   "execution_count": null,
   "id": "e9c7ebf6",
   "metadata": {},
   "outputs": [],
   "source": []
  }
 ],
 "metadata": {
  "kernelspec": {
   "display_name": "Python 3 (ipykernel)",
   "language": "python",
   "name": "python3"
  },
  "language_info": {
   "codemirror_mode": {
    "name": "ipython",
    "version": 3
   },
   "file_extension": ".py",
   "mimetype": "text/x-python",
   "name": "python",
   "nbconvert_exporter": "python",
   "pygments_lexer": "ipython3",
   "version": "3.10.9"
  }
 },
 "nbformat": 4,
 "nbformat_minor": 5
}
