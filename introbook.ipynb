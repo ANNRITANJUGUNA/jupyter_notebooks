{
 "cells": [
  {
   "cell_type": "code",
   "execution_count": 1,
   "id": "4a5a36f4",
   "metadata": {},
   "outputs": [
    {
     "name": "stdout",
     "output_type": "stream",
     "text": [
      "hello world\n"
     ]
    }
   ],
   "source": [
    "print(\"hello world\")\n"
   ]
  },
  {
   "cell_type": "code",
   "execution_count": null,
   "id": "d9a15874",
   "metadata": {},
   "outputs": [],
   "source": [
    "res=[]\n",
    "for i in range(40,151):\n",
    "    if i % 2 == 0:\n",
    "        res.append(i)\n",
    "    \n",
    "    \n",
    "    \n",
    "    \n",
    "    "
   ]
  },
  {
   "cell_type": "code",
   "execution_count": 10,
   "id": "ba467ceb",
   "metadata": {},
   "outputs": [
    {
     "data": {
      "text/plain": [
       "[40,\n",
       " 42,\n",
       " 44,\n",
       " 46,\n",
       " 48,\n",
       " 50,\n",
       " 52,\n",
       " 54,\n",
       " 56,\n",
       " 58,\n",
       " 60,\n",
       " 62,\n",
       " 64,\n",
       " 66,\n",
       " 68,\n",
       " 70,\n",
       " 72,\n",
       " 74,\n",
       " 76,\n",
       " 78,\n",
       " 80,\n",
       " 82,\n",
       " 84,\n",
       " 86,\n",
       " 88,\n",
       " 90,\n",
       " 92,\n",
       " 94,\n",
       " 96,\n",
       " 98,\n",
       " 100,\n",
       " 102,\n",
       " 104,\n",
       " 106,\n",
       " 108,\n",
       " 110,\n",
       " 112,\n",
       " 114,\n",
       " 116,\n",
       " 118,\n",
       " 120,\n",
       " 122,\n",
       " 124,\n",
       " 126,\n",
       " 128,\n",
       " 130,\n",
       " 132,\n",
       " 134,\n",
       " 136,\n",
       " 138,\n",
       " 140,\n",
       " 142,\n",
       " 144,\n",
       " 146,\n",
       " 148,\n",
       " 150]"
      ]
     },
     "execution_count": 10,
     "metadata": {},
     "output_type": "execute_result"
    }
   ],
   "source": [
    "res"
   ]
  },
  {
   "cell_type": "code",
   "execution_count": 3,
   "id": "4898cb53",
   "metadata": {},
   "outputs": [],
   "source": [
    "n=\"AnnRita Njuguna\""
   ]
  },
  {
   "cell_type": "code",
   "execution_count": 4,
   "id": "b91ad95c",
   "metadata": {},
   "outputs": [
    {
     "data": {
      "text/plain": [
       "'AnnRita Njuguna'"
      ]
     },
     "execution_count": 4,
     "metadata": {},
     "output_type": "execute_result"
    }
   ],
   "source": [
    "n"
   ]
  },
  {
   "cell_type": "markdown",
   "id": "1e1fc401",
   "metadata": {},
   "source": [
    "#### my notebook"
   ]
  },
  {
   "cell_type": "markdown",
   "id": "76eae748",
   "metadata": {},
   "source": [
    "the data is from marketing and sales,we shall venture into the description of the data,\n"
   ]
  },
  {
   "cell_type": "code",
   "execution_count": 12,
   "id": "f00f9da5",
   "metadata": {},
   "outputs": [
    {
     "name": "stdout",
     "output_type": "stream",
     "text": [
      "Requirement already satisfied: numpy in c:\\users\\kymani\\anaconda3\\lib\\site-packages (1.23.5)\n",
      "Note: you may need to restart the kernel to use updated packages.\n"
     ]
    }
   ],
   "source": [
    "pip install numpy"
   ]
  },
  {
   "cell_type": "code",
   "execution_count": 13,
   "id": "9cf481b1",
   "metadata": {},
   "outputs": [
    {
     "name": "stdout",
     "output_type": "stream",
     "text": [
      "Collecting package metadata (current_repodata.json): ...working... done\n",
      "Solving environment: ...working... done\n",
      "\n",
      "## Package Plan ##\n",
      "\n",
      "  environment location: C:\\Users\\Kymani\\anaconda3\n",
      "\n",
      "  added / updated specs:\n",
      "    - numpy\n",
      "\n",
      "\n",
      "The following packages will be downloaded:\n",
      "\n",
      "    package                    |            build\n",
      "    ---------------------------|-----------------\n",
      "    ca-certificates-2023.05.30 |       haa95532_0         120 KB\n",
      "    certifi-2023.5.7           |  py310haa95532_0         153 KB\n",
      "    openssl-1.1.1u             |       h2bbff1b_0         5.5 MB\n",
      "    ------------------------------------------------------------\n",
      "                                           Total:         5.8 MB\n",
      "\n",
      "The following packages will be UPDATED:\n",
      "\n",
      "  ca-certificates                     2023.01.10-haa95532_0 --> 2023.05.30-haa95532_0 \n",
      "  certifi                         2022.12.7-py310haa95532_0 --> 2023.5.7-py310haa95532_0 \n",
      "  openssl                                 1.1.1t-h2bbff1b_0 --> 1.1.1u-h2bbff1b_0 \n",
      "\n",
      "\n",
      "\n",
      "Downloading and Extracting Packages\n",
      "\n",
      "openssl-1.1.1u       | 5.5 MB    |            |   0% \n",
      "\n",
      "certifi-2023.5.7     | 153 KB    |            |   0% \u001b[A\n",
      "\n",
      "\n",
      "ca-certificates-2023 | 120 KB    |            |   0% \u001b[A\u001b[A\n",
      "openssl-1.1.1u       | 5.5 MB    |            |   0% \n",
      "\n",
      "certifi-2023.5.7     | 153 KB    | #          |  10% \u001b[A\n",
      "openssl-1.1.1u       | 5.5 MB    | 3          |   3% \n",
      "\n",
      "\n",
      "ca-certificates-2023 | 120 KB    | #3         |  13% \u001b[A\u001b[A\n",
      "\n",
      "certifi-2023.5.7     | 153 KB    | ####1      |  42% \u001b[A\n",
      "\n",
      "\n",
      "ca-certificates-2023 | 120 KB    | ###9       |  40% \u001b[A\u001b[A\n",
      "openssl-1.1.1u       | 5.5 MB    | 4          |   5% \n",
      "\n",
      "certifi-2023.5.7     | 153 KB    | #######3   |  73% \u001b[A\n",
      "openssl-1.1.1u       | 5.5 MB    | 5          |   6% \n",
      "\n",
      "\n",
      "ca-certificates-2023 | 120 KB    | #######9   |  80% \u001b[A\u001b[A\n",
      "\n",
      "certifi-2023.5.7     | 153 KB    | ########## | 100% \u001b[A\n",
      "openssl-1.1.1u       | 5.5 MB    | 7          |   7% \n",
      "openssl-1.1.1u       | 5.5 MB    | 8          |   9% \n",
      "openssl-1.1.1u       | 5.5 MB    | #1         |  11% \n",
      "openssl-1.1.1u       | 5.5 MB    | #2         |  13% \n",
      "openssl-1.1.1u       | 5.5 MB    | #3         |  14% \n",
      "openssl-1.1.1u       | 5.5 MB    | #6         |  17% \n",
      "\n",
      "\n",
      "ca-certificates-2023 | 120 KB    | ########## | 100% \u001b[A\u001b[A\n",
      "\n",
      "\n",
      "ca-certificates-2023 | 120 KB    | ########## | 100% \u001b[A\u001b[A\n",
      "openssl-1.1.1u       | 5.5 MB    | #8         |  18% \n",
      "openssl-1.1.1u       | 5.5 MB    | #9         |  20% \n",
      "openssl-1.1.1u       | 5.5 MB    | ##2        |  22% \n",
      "openssl-1.1.1u       | 5.5 MB    | ##3        |  24% \n",
      "\n",
      "certifi-2023.5.7     | 153 KB    | ########## | 100% \u001b[A\n",
      "openssl-1.1.1u       | 5.5 MB    | ##7        |  27% \n",
      "openssl-1.1.1u       | 5.5 MB    | ##9        |  29% \n",
      "openssl-1.1.1u       | 5.5 MB    | ###1       |  31% \n",
      "openssl-1.1.1u       | 5.5 MB    | ###3       |  33% \n",
      "openssl-1.1.1u       | 5.5 MB    | ###5       |  35% \n",
      "openssl-1.1.1u       | 5.5 MB    | ###6       |  37% \n",
      "openssl-1.1.1u       | 5.5 MB    | ###8       |  39% \n",
      "openssl-1.1.1u       | 5.5 MB    | ####       |  40% \n",
      "openssl-1.1.1u       | 5.5 MB    | ####2      |  42% \n",
      "openssl-1.1.1u       | 5.5 MB    | ####3      |  44% \n",
      "openssl-1.1.1u       | 5.5 MB    | ####5      |  46% \n",
      "openssl-1.1.1u       | 5.5 MB    | ####7      |  47% \n",
      "openssl-1.1.1u       | 5.5 MB    | ####8      |  49% \n",
      "openssl-1.1.1u       | 5.5 MB    | #####      |  51% \n",
      "openssl-1.1.1u       | 5.5 MB    | #####2     |  52% \n",
      "openssl-1.1.1u       | 5.5 MB    | #####4     |  54% \n",
      "openssl-1.1.1u       | 5.5 MB    | #####5     |  56% \n",
      "openssl-1.1.1u       | 5.5 MB    | #####7     |  58% \n",
      "openssl-1.1.1u       | 5.5 MB    | #####9     |  59% \n",
      "openssl-1.1.1u       | 5.5 MB    | ######     |  61% \n",
      "openssl-1.1.1u       | 5.5 MB    | ######2    |  63% \n",
      "openssl-1.1.1u       | 5.5 MB    | ######4    |  64% \n",
      "openssl-1.1.1u       | 5.5 MB    | ######6    |  66% \n",
      "openssl-1.1.1u       | 5.5 MB    | ######7    |  68% \n",
      "openssl-1.1.1u       | 5.5 MB    | ######9    |  69% \n",
      "openssl-1.1.1u       | 5.5 MB    | #######1   |  71% \n",
      "openssl-1.1.1u       | 5.5 MB    | #######2   |  73% \n",
      "openssl-1.1.1u       | 5.5 MB    | #######4   |  75% \n",
      "openssl-1.1.1u       | 5.5 MB    | #######6   |  76% \n",
      "openssl-1.1.1u       | 5.5 MB    | #######8   |  78% \n",
      "openssl-1.1.1u       | 5.5 MB    | #######9   |  80% \n",
      "openssl-1.1.1u       | 5.5 MB    | ########1  |  81% \n",
      "openssl-1.1.1u       | 5.5 MB    | ########3  |  83% \n",
      "openssl-1.1.1u       | 5.5 MB    | ########4  |  85% \n",
      "openssl-1.1.1u       | 5.5 MB    | ########6  |  87% \n",
      "openssl-1.1.1u       | 5.5 MB    | ########8  |  88% \n",
      "openssl-1.1.1u       | 5.5 MB    | ########9  |  90% \n",
      "openssl-1.1.1u       | 5.5 MB    | #########1 |  92% \n",
      "openssl-1.1.1u       | 5.5 MB    | #########3 |  93% \n",
      "openssl-1.1.1u       | 5.5 MB    | #########5 |  95% \n",
      "openssl-1.1.1u       | 5.5 MB    | #########6 |  97% \n",
      "openssl-1.1.1u       | 5.5 MB    | #########8 |  99% \n",
      "openssl-1.1.1u       | 5.5 MB    | ########## | 100% \n",
      "openssl-1.1.1u       | 5.5 MB    | ########## | 100% \n",
      "                                                     \n",
      "\n",
      "\n",
      "                                                     \u001b[A\n",
      "\n",
      "\n",
      "                                                     \u001b[A\u001b[A\n",
      "\n",
      "Preparing transaction: ...working... done\n",
      "Verifying transaction: ...working... done\n",
      "Executing transaction: ...working... done\n",
      "\n",
      "Note: you may need to restart the kernel to use updated packages.\n"
     ]
    },
    {
     "name": "stderr",
     "output_type": "stream",
     "text": [
      "\n",
      "\n",
      "==> WARNING: A newer version of conda exists. <==\n",
      "  current version: 23.3.1\n",
      "  latest version: 23.5.2\n",
      "\n",
      "Please update conda by running\n",
      "\n",
      "    $ conda update -n base -c defaults conda\n",
      "\n",
      "Or to minimize the number of packages updated during conda update use\n",
      "\n",
      "     conda install conda=23.5.2\n",
      "\n",
      "\n"
     ]
    }
   ],
   "source": [
    "conda install numpy"
   ]
  },
  {
   "cell_type": "code",
   "execution_count": null,
   "id": "8660819f",
   "metadata": {},
   "outputs": [],
   "source": []
  }
 ],
 "metadata": {
  "kernelspec": {
   "display_name": "Python 3 (ipykernel)",
   "language": "python",
   "name": "python3"
  },
  "language_info": {
   "codemirror_mode": {
    "name": "ipython",
    "version": 3
   },
   "file_extension": ".py",
   "mimetype": "text/x-python",
   "name": "python",
   "nbconvert_exporter": "python",
   "pygments_lexer": "ipython3",
   "version": "3.10.9"
  }
 },
 "nbformat": 4,
 "nbformat_minor": 5
}
