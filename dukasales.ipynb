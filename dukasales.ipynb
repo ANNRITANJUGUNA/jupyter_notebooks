{
 "cells": [
  {
   "cell_type": "markdown",
   "id": "86cc581b",
   "metadata": {},
   "source": [
    "### 1.Importing modules that interact with the database."
   ]
  },
  {
   "cell_type": "code",
   "execution_count": 1,
   "id": "e816923f",
   "metadata": {},
   "outputs": [
    {
     "name": "stdout",
     "output_type": "stream",
     "text": [
      "Requirement already satisfied: psycopg2 in c:\\users\\kymani\\appdata\\local\\programs\\python\\python39\\lib\\site-packages (2.9.6)"
     ]
    },
    {
     "name": "stderr",
     "output_type": "stream",
     "text": [
      "WARNING: You are using pip version 21.1.3; however, version 23.2.1 is available.\n",
      "You should consider upgrading via the 'c:\\users\\kymani\\appdata\\local\\programs\\python\\python39\\python.exe -m pip install --upgrade pip' command.\n"
     ]
    },
    {
     "name": "stdout",
     "output_type": "stream",
     "text": [
      "\n"
     ]
    }
   ],
   "source": [
    "!pip install psycopg2"
   ]
  },
  {
   "cell_type": "code",
   "execution_count": 9,
   "id": "0833da32",
   "metadata": {},
   "outputs": [],
   "source": [
    "import warnings"
   ]
  },
  {
   "cell_type": "code",
   "execution_count": 10,
   "id": "26793c17",
   "metadata": {},
   "outputs": [],
   "source": [
    "import psycopg2"
   ]
  },
  {
   "cell_type": "code",
   "execution_count": 11,
   "id": "d459d4d5",
   "metadata": {},
   "outputs": [],
   "source": [
    "warnings.filterwarnings('ignore')"
   ]
  },
  {
   "cell_type": "code",
   "execution_count": 12,
   "id": "fdf3f323",
   "metadata": {},
   "outputs": [],
   "source": [
    "import pandas as pd"
   ]
  },
  {
   "cell_type": "code",
   "execution_count": 13,
   "id": "7162023d",
   "metadata": {},
   "outputs": [],
   "source": [
    "conn = psycopg2.connect(\"dbname=myduka user=postgres password=1234\")"
   ]
  },
  {
   "cell_type": "code",
   "execution_count": 14,
   "id": "4e803f7b",
   "metadata": {},
   "outputs": [
    {
     "data": {
      "text/plain": [
       "<connection object at 0x000000B8E6A30AE0; dsn: 'user=postgres password=xxx dbname=myduka', closed: 0>"
      ]
     },
     "execution_count": 14,
     "metadata": {},
     "output_type": "execute_result"
    }
   ],
   "source": [
    "conn"
   ]
  },
  {
   "cell_type": "code",
   "execution_count": 81,
   "id": "4a7e8b25",
   "metadata": {},
   "outputs": [],
   "source": [
    "df = pd.read_sql_query(\"SELECT my_sales.id as sales_id, name, buying_price, selling_price, my_sales.quantity as sales_quantity, created_at as sales_created_at FROM Products,my_sales WHERE products.id = my_sales.pid\", conn)"
   ]
  },
  {
   "cell_type": "code",
   "execution_count": 82,
   "id": "a7f89cc8",
   "metadata": {},
   "outputs": [
    {
     "data": {
      "text/html": [
       "<div>\n",
       "<style scoped>\n",
       "    .dataframe tbody tr th:only-of-type {\n",
       "        vertical-align: middle;\n",
       "    }\n",
       "\n",
       "    .dataframe tbody tr th {\n",
       "        vertical-align: top;\n",
       "    }\n",
       "\n",
       "    .dataframe thead th {\n",
       "        text-align: right;\n",
       "    }\n",
       "</style>\n",
       "<table border=\"1\" class=\"dataframe\">\n",
       "  <thead>\n",
       "    <tr style=\"text-align: right;\">\n",
       "      <th></th>\n",
       "      <th>sales_id</th>\n",
       "      <th>name</th>\n",
       "      <th>buying_price</th>\n",
       "      <th>selling_price</th>\n",
       "      <th>sales_quantity</th>\n",
       "      <th>sales_created_at</th>\n",
       "    </tr>\n",
       "  </thead>\n",
       "  <tbody>\n",
       "    <tr>\n",
       "      <th>0</th>\n",
       "      <td>1</td>\n",
       "      <td>john</td>\n",
       "      <td>45.0</td>\n",
       "      <td>56.0</td>\n",
       "      <td>45.0</td>\n",
       "      <td>2023-06-22 18:37:15.684384</td>\n",
       "    </tr>\n",
       "    <tr>\n",
       "      <th>1</th>\n",
       "      <td>2</td>\n",
       "      <td>kim</td>\n",
       "      <td>56.0</td>\n",
       "      <td>89.0</td>\n",
       "      <td>34.0</td>\n",
       "      <td>2023-06-22 18:38:07.962995</td>\n",
       "    </tr>\n",
       "    <tr>\n",
       "      <th>2</th>\n",
       "      <td>3</td>\n",
       "      <td>tissue</td>\n",
       "      <td>45.0</td>\n",
       "      <td>56.0</td>\n",
       "      <td>89.0</td>\n",
       "      <td>2023-06-22 18:39:22.898928</td>\n",
       "    </tr>\n",
       "    <tr>\n",
       "      <th>3</th>\n",
       "      <td>4</td>\n",
       "      <td>milk</td>\n",
       "      <td>34.0</td>\n",
       "      <td>67.0</td>\n",
       "      <td>567.0</td>\n",
       "      <td>2023-06-22 18:39:49.750845</td>\n",
       "    </tr>\n",
       "    <tr>\n",
       "      <th>4</th>\n",
       "      <td>5</td>\n",
       "      <td>john</td>\n",
       "      <td>45.0</td>\n",
       "      <td>56.0</td>\n",
       "      <td>576.0</td>\n",
       "      <td>2023-06-22 20:22:40.404530</td>\n",
       "    </tr>\n",
       "    <tr>\n",
       "      <th>...</th>\n",
       "      <td>...</td>\n",
       "      <td>...</td>\n",
       "      <td>...</td>\n",
       "      <td>...</td>\n",
       "      <td>...</td>\n",
       "      <td>...</td>\n",
       "    </tr>\n",
       "    <tr>\n",
       "      <th>879</th>\n",
       "      <td>880</td>\n",
       "      <td>Nantucket - 518ml</td>\n",
       "      <td>183.0</td>\n",
       "      <td>256.2</td>\n",
       "      <td>439.0</td>\n",
       "      <td>2022-07-08 00:00:00.000000</td>\n",
       "    </tr>\n",
       "    <tr>\n",
       "      <th>880</th>\n",
       "      <td>881</td>\n",
       "      <td>Rappini - Andy Boy</td>\n",
       "      <td>254.0</td>\n",
       "      <td>355.6</td>\n",
       "      <td>435.0</td>\n",
       "      <td>2022-08-04 00:00:00.000000</td>\n",
       "    </tr>\n",
       "    <tr>\n",
       "      <th>881</th>\n",
       "      <td>882</td>\n",
       "      <td>tissue</td>\n",
       "      <td>45.0</td>\n",
       "      <td>56.0</td>\n",
       "      <td>369.0</td>\n",
       "      <td>2022-09-04 00:00:00.000000</td>\n",
       "    </tr>\n",
       "    <tr>\n",
       "      <th>882</th>\n",
       "      <td>883</td>\n",
       "      <td>Pork - Caul Fat</td>\n",
       "      <td>16.0</td>\n",
       "      <td>22.4</td>\n",
       "      <td>223.0</td>\n",
       "      <td>2022-10-15 00:00:00.000000</td>\n",
       "    </tr>\n",
       "    <tr>\n",
       "      <th>883</th>\n",
       "      <td>884</td>\n",
       "      <td>Lettuce - Romaine, Heart</td>\n",
       "      <td>232.0</td>\n",
       "      <td>324.8</td>\n",
       "      <td>87.0</td>\n",
       "      <td>2022-09-03 00:00:00.000000</td>\n",
       "    </tr>\n",
       "  </tbody>\n",
       "</table>\n",
       "<p>884 rows × 6 columns</p>\n",
       "</div>"
      ],
      "text/plain": [
       "     sales_id                      name  buying_price  selling_price  \\\n",
       "0           1                      john          45.0           56.0   \n",
       "1           2                       kim          56.0           89.0   \n",
       "2           3                    tissue          45.0           56.0   \n",
       "3           4                      milk          34.0           67.0   \n",
       "4           5                      john          45.0           56.0   \n",
       "..        ...                       ...           ...            ...   \n",
       "879       880         Nantucket - 518ml         183.0          256.2   \n",
       "880       881        Rappini - Andy Boy         254.0          355.6   \n",
       "881       882                    tissue          45.0           56.0   \n",
       "882       883           Pork - Caul Fat          16.0           22.4   \n",
       "883       884  Lettuce - Romaine, Heart         232.0          324.8   \n",
       "\n",
       "     sales_quantity           sales_created_at  \n",
       "0              45.0 2023-06-22 18:37:15.684384  \n",
       "1              34.0 2023-06-22 18:38:07.962995  \n",
       "2              89.0 2023-06-22 18:39:22.898928  \n",
       "3             567.0 2023-06-22 18:39:49.750845  \n",
       "4             576.0 2023-06-22 20:22:40.404530  \n",
       "..              ...                        ...  \n",
       "879           439.0 2022-07-08 00:00:00.000000  \n",
       "880           435.0 2022-08-04 00:00:00.000000  \n",
       "881           369.0 2022-09-04 00:00:00.000000  \n",
       "882           223.0 2022-10-15 00:00:00.000000  \n",
       "883            87.0 2022-09-03 00:00:00.000000  \n",
       "\n",
       "[884 rows x 6 columns]"
      ]
     },
     "execution_count": 82,
     "metadata": {},
     "output_type": "execute_result"
    }
   ],
   "source": [
    "df"
   ]
  },
  {
   "cell_type": "markdown",
   "id": "587ac2f9",
   "metadata": {},
   "source": [
    "## 2.Set column index"
   ]
  },
  {
   "cell_type": "code",
   "execution_count": 83,
   "id": "7f7b48bb",
   "metadata": {},
   "outputs": [
    {
     "data": {
      "text/html": [
       "<div>\n",
       "<style scoped>\n",
       "    .dataframe tbody tr th:only-of-type {\n",
       "        vertical-align: middle;\n",
       "    }\n",
       "\n",
       "    .dataframe tbody tr th {\n",
       "        vertical-align: top;\n",
       "    }\n",
       "\n",
       "    .dataframe thead th {\n",
       "        text-align: right;\n",
       "    }\n",
       "</style>\n",
       "<table border=\"1\" class=\"dataframe\">\n",
       "  <thead>\n",
       "    <tr style=\"text-align: right;\">\n",
       "      <th></th>\n",
       "      <th>name</th>\n",
       "      <th>buying_price</th>\n",
       "      <th>selling_price</th>\n",
       "      <th>sales_quantity</th>\n",
       "      <th>sales_created_at</th>\n",
       "    </tr>\n",
       "    <tr>\n",
       "      <th>sales_id</th>\n",
       "      <th></th>\n",
       "      <th></th>\n",
       "      <th></th>\n",
       "      <th></th>\n",
       "      <th></th>\n",
       "    </tr>\n",
       "  </thead>\n",
       "  <tbody>\n",
       "    <tr>\n",
       "      <th>1</th>\n",
       "      <td>john</td>\n",
       "      <td>45.0</td>\n",
       "      <td>56.0</td>\n",
       "      <td>45.0</td>\n",
       "      <td>2023-06-22 18:37:15.684384</td>\n",
       "    </tr>\n",
       "    <tr>\n",
       "      <th>2</th>\n",
       "      <td>kim</td>\n",
       "      <td>56.0</td>\n",
       "      <td>89.0</td>\n",
       "      <td>34.0</td>\n",
       "      <td>2023-06-22 18:38:07.962995</td>\n",
       "    </tr>\n",
       "    <tr>\n",
       "      <th>3</th>\n",
       "      <td>tissue</td>\n",
       "      <td>45.0</td>\n",
       "      <td>56.0</td>\n",
       "      <td>89.0</td>\n",
       "      <td>2023-06-22 18:39:22.898928</td>\n",
       "    </tr>\n",
       "    <tr>\n",
       "      <th>4</th>\n",
       "      <td>milk</td>\n",
       "      <td>34.0</td>\n",
       "      <td>67.0</td>\n",
       "      <td>567.0</td>\n",
       "      <td>2023-06-22 18:39:49.750845</td>\n",
       "    </tr>\n",
       "    <tr>\n",
       "      <th>5</th>\n",
       "      <td>john</td>\n",
       "      <td>45.0</td>\n",
       "      <td>56.0</td>\n",
       "      <td>576.0</td>\n",
       "      <td>2023-06-22 20:22:40.404530</td>\n",
       "    </tr>\n",
       "    <tr>\n",
       "      <th>...</th>\n",
       "      <td>...</td>\n",
       "      <td>...</td>\n",
       "      <td>...</td>\n",
       "      <td>...</td>\n",
       "      <td>...</td>\n",
       "    </tr>\n",
       "    <tr>\n",
       "      <th>880</th>\n",
       "      <td>Nantucket - 518ml</td>\n",
       "      <td>183.0</td>\n",
       "      <td>256.2</td>\n",
       "      <td>439.0</td>\n",
       "      <td>2022-07-08 00:00:00.000000</td>\n",
       "    </tr>\n",
       "    <tr>\n",
       "      <th>881</th>\n",
       "      <td>Rappini - Andy Boy</td>\n",
       "      <td>254.0</td>\n",
       "      <td>355.6</td>\n",
       "      <td>435.0</td>\n",
       "      <td>2022-08-04 00:00:00.000000</td>\n",
       "    </tr>\n",
       "    <tr>\n",
       "      <th>882</th>\n",
       "      <td>tissue</td>\n",
       "      <td>45.0</td>\n",
       "      <td>56.0</td>\n",
       "      <td>369.0</td>\n",
       "      <td>2022-09-04 00:00:00.000000</td>\n",
       "    </tr>\n",
       "    <tr>\n",
       "      <th>883</th>\n",
       "      <td>Pork - Caul Fat</td>\n",
       "      <td>16.0</td>\n",
       "      <td>22.4</td>\n",
       "      <td>223.0</td>\n",
       "      <td>2022-10-15 00:00:00.000000</td>\n",
       "    </tr>\n",
       "    <tr>\n",
       "      <th>884</th>\n",
       "      <td>Lettuce - Romaine, Heart</td>\n",
       "      <td>232.0</td>\n",
       "      <td>324.8</td>\n",
       "      <td>87.0</td>\n",
       "      <td>2022-09-03 00:00:00.000000</td>\n",
       "    </tr>\n",
       "  </tbody>\n",
       "</table>\n",
       "<p>884 rows × 5 columns</p>\n",
       "</div>"
      ],
      "text/plain": [
       "                              name  buying_price  selling_price  \\\n",
       "sales_id                                                          \n",
       "1                             john          45.0           56.0   \n",
       "2                              kim          56.0           89.0   \n",
       "3                           tissue          45.0           56.0   \n",
       "4                             milk          34.0           67.0   \n",
       "5                             john          45.0           56.0   \n",
       "...                            ...           ...            ...   \n",
       "880              Nantucket - 518ml         183.0          256.2   \n",
       "881             Rappini - Andy Boy         254.0          355.6   \n",
       "882                         tissue          45.0           56.0   \n",
       "883                Pork - Caul Fat          16.0           22.4   \n",
       "884       Lettuce - Romaine, Heart         232.0          324.8   \n",
       "\n",
       "          sales_quantity           sales_created_at  \n",
       "sales_id                                             \n",
       "1                   45.0 2023-06-22 18:37:15.684384  \n",
       "2                   34.0 2023-06-22 18:38:07.962995  \n",
       "3                   89.0 2023-06-22 18:39:22.898928  \n",
       "4                  567.0 2023-06-22 18:39:49.750845  \n",
       "5                  576.0 2023-06-22 20:22:40.404530  \n",
       "...                  ...                        ...  \n",
       "880                439.0 2022-07-08 00:00:00.000000  \n",
       "881                435.0 2022-08-04 00:00:00.000000  \n",
       "882                369.0 2022-09-04 00:00:00.000000  \n",
       "883                223.0 2022-10-15 00:00:00.000000  \n",
       "884                 87.0 2022-09-03 00:00:00.000000  \n",
       "\n",
       "[884 rows x 5 columns]"
      ]
     },
     "execution_count": 83,
     "metadata": {},
     "output_type": "execute_result"
    }
   ],
   "source": [
    "df.set_index('sales_id')"
   ]
  },
  {
   "cell_type": "markdown",
   "id": "e51af7b4",
   "metadata": {},
   "source": [
    "## 3.checking data types"
   ]
  },
  {
   "cell_type": "code",
   "execution_count": 65,
   "id": "ab22672f",
   "metadata": {},
   "outputs": [
    {
     "data": {
      "text/plain": [
       "id                         int64\n",
       "name                      object\n",
       "buying_price             float64\n",
       "selling_price            float64\n",
       "stock_quantity             int64\n",
       "id                         int64\n",
       "pid                        int64\n",
       "quantity                 float64\n",
       "created_at        datetime64[ns]\n",
       "dtype: object"
      ]
     },
     "execution_count": 65,
     "metadata": {},
     "output_type": "execute_result"
    }
   ],
   "source": [
    "df.dtypes"
   ]
  },
  {
   "cell_type": "markdown",
   "id": "8920fff5",
   "metadata": {},
   "source": [
    "## 4.Cleaning up columns to follow programming naming."
   ]
  },
  {
   "cell_type": "code",
   "execution_count": 66,
   "id": "497ea37b",
   "metadata": {},
   "outputs": [
    {
     "data": {
      "text/plain": [
       "['id',\n",
       " 'name',\n",
       " 'buying_price',\n",
       " 'selling_price',\n",
       " 'stock_quantity',\n",
       " 'id',\n",
       " 'pid',\n",
       " 'quantity',\n",
       " 'created_at']"
      ]
     },
     "execution_count": 66,
     "metadata": {},
     "output_type": "execute_result"
    }
   ],
   "source": [
    "df.columns.to_list()"
   ]
  },
  {
   "cell_type": "markdown",
   "id": "94822962",
   "metadata": {},
   "source": [
    "## 5.Removing duplicates"
   ]
  },
  {
   "cell_type": "code",
   "execution_count": 67,
   "id": "3f794fc6",
   "metadata": {},
   "outputs": [
    {
     "data": {
      "text/plain": [
       "(884, 9)"
      ]
     },
     "execution_count": 67,
     "metadata": {},
     "output_type": "execute_result"
    }
   ],
   "source": [
    "df.shape"
   ]
  },
  {
   "cell_type": "code",
   "execution_count": 68,
   "id": "b2ca998c",
   "metadata": {},
   "outputs": [
    {
     "data": {
      "text/plain": [
       "(1768, 9)"
      ]
     },
     "execution_count": 68,
     "metadata": {},
     "output_type": "execute_result"
    }
   ],
   "source": [
    "new_df = df.append(df)\n",
    "new_df.shape"
   ]
  },
  {
   "cell_type": "code",
   "execution_count": 69,
   "id": "b5acca8c",
   "metadata": {},
   "outputs": [],
   "source": [
    "new_df = df.drop_duplicates(df)"
   ]
  },
  {
   "cell_type": "code",
   "execution_count": 71,
   "id": "d2ad9237",
   "metadata": {},
   "outputs": [
    {
     "data": {
      "text/plain": [
       "(884, 9)"
      ]
     },
     "execution_count": 71,
     "metadata": {},
     "output_type": "execute_result"
    }
   ],
   "source": [
    "new_df.shape"
   ]
  },
  {
   "cell_type": "markdown",
   "id": "febc54ee",
   "metadata": {},
   "source": [
    "## 6.Cleaning up columns."
   ]
  },
  {
   "cell_type": "code",
   "execution_count": 72,
   "id": "2f671587",
   "metadata": {},
   "outputs": [
    {
     "data": {
      "text/plain": [
       "Index(['id', 'name', 'buying_price', 'selling_price', 'stock_quantity', 'id',\n",
       "       'pid', 'quantity', 'created_at'],\n",
       "      dtype='object')"
      ]
     },
     "execution_count": 72,
     "metadata": {},
     "output_type": "execute_result"
    }
   ],
   "source": [
    "df.columns.map(str.lower,na_action='ignore')"
   ]
  },
  {
   "cell_type": "markdown",
   "id": "c2d820b9",
   "metadata": {},
   "source": [
    "## 7.Dealing with null values."
   ]
  },
  {
   "cell_type": "code",
   "execution_count": null,
   "id": "29eac464",
   "metadata": {},
   "outputs": [],
   "source": []
  },
  {
   "cell_type": "code",
   "execution_count": null,
   "id": "d0ec7e69",
   "metadata": {},
   "outputs": [],
   "source": []
  },
  {
   "cell_type": "code",
   "execution_count": null,
   "id": "105535e1",
   "metadata": {},
   "outputs": [],
   "source": []
  },
  {
   "cell_type": "code",
   "execution_count": null,
   "id": "48515d80",
   "metadata": {},
   "outputs": [],
   "source": []
  },
  {
   "cell_type": "markdown",
   "id": "362e2894",
   "metadata": {},
   "source": [
    "## 8.Summary statistics."
   ]
  },
  {
   "cell_type": "code",
   "execution_count": 84,
   "id": "8115e962",
   "metadata": {},
   "outputs": [
    {
     "data": {
      "text/html": [
       "<div>\n",
       "<style scoped>\n",
       "    .dataframe tbody tr th:only-of-type {\n",
       "        vertical-align: middle;\n",
       "    }\n",
       "\n",
       "    .dataframe tbody tr th {\n",
       "        vertical-align: top;\n",
       "    }\n",
       "\n",
       "    .dataframe thead th {\n",
       "        text-align: right;\n",
       "    }\n",
       "</style>\n",
       "<table border=\"1\" class=\"dataframe\">\n",
       "  <thead>\n",
       "    <tr style=\"text-align: right;\">\n",
       "      <th></th>\n",
       "      <th>sales_id</th>\n",
       "      <th>buying_price</th>\n",
       "      <th>selling_price</th>\n",
       "      <th>sales_quantity</th>\n",
       "    </tr>\n",
       "  </thead>\n",
       "  <tbody>\n",
       "    <tr>\n",
       "      <th>sales_id</th>\n",
       "      <td>1.000000</td>\n",
       "      <td>0.005830</td>\n",
       "      <td>0.005312</td>\n",
       "      <td>-0.022198</td>\n",
       "    </tr>\n",
       "    <tr>\n",
       "      <th>buying_price</th>\n",
       "      <td>0.005830</td>\n",
       "      <td>1.000000</td>\n",
       "      <td>0.980634</td>\n",
       "      <td>0.008265</td>\n",
       "    </tr>\n",
       "    <tr>\n",
       "      <th>selling_price</th>\n",
       "      <td>0.005312</td>\n",
       "      <td>0.980634</td>\n",
       "      <td>1.000000</td>\n",
       "      <td>0.004526</td>\n",
       "    </tr>\n",
       "    <tr>\n",
       "      <th>sales_quantity</th>\n",
       "      <td>-0.022198</td>\n",
       "      <td>0.008265</td>\n",
       "      <td>0.004526</td>\n",
       "      <td>1.000000</td>\n",
       "    </tr>\n",
       "  </tbody>\n",
       "</table>\n",
       "</div>"
      ],
      "text/plain": [
       "                sales_id  buying_price  selling_price  sales_quantity\n",
       "sales_id        1.000000      0.005830       0.005312       -0.022198\n",
       "buying_price    0.005830      1.000000       0.980634        0.008265\n",
       "selling_price   0.005312      0.980634       1.000000        0.004526\n",
       "sales_quantity -0.022198      0.008265       0.004526        1.000000"
      ]
     },
     "execution_count": 84,
     "metadata": {},
     "output_type": "execute_result"
    }
   ],
   "source": [
    "df.corr()"
   ]
  },
  {
   "cell_type": "markdown",
   "id": "1ff94522",
   "metadata": {},
   "source": [
    "## 9.Creating new columns."
   ]
  },
  {
   "cell_type": "code",
   "execution_count": 76,
   "id": "46e6b3b8",
   "metadata": {},
   "outputs": [],
   "source": [
    "df['profit'] = df['selling_price'] - df['buying_price'] * df['stock_quantity']"
   ]
  },
  {
   "cell_type": "code",
   "execution_count": 77,
   "id": "b794814c",
   "metadata": {},
   "outputs": [
    {
     "data": {
      "text/html": [
       "<div>\n",
       "<style scoped>\n",
       "    .dataframe tbody tr th:only-of-type {\n",
       "        vertical-align: middle;\n",
       "    }\n",
       "\n",
       "    .dataframe tbody tr th {\n",
       "        vertical-align: top;\n",
       "    }\n",
       "\n",
       "    .dataframe thead th {\n",
       "        text-align: right;\n",
       "    }\n",
       "</style>\n",
       "<table border=\"1\" class=\"dataframe\">\n",
       "  <thead>\n",
       "    <tr style=\"text-align: right;\">\n",
       "      <th></th>\n",
       "      <th>id</th>\n",
       "      <th>name</th>\n",
       "      <th>buying_price</th>\n",
       "      <th>selling_price</th>\n",
       "      <th>stock_quantity</th>\n",
       "      <th>id</th>\n",
       "      <th>pid</th>\n",
       "      <th>quantity</th>\n",
       "      <th>created_at</th>\n",
       "      <th>profit</th>\n",
       "    </tr>\n",
       "  </thead>\n",
       "  <tbody>\n",
       "    <tr>\n",
       "      <th>0</th>\n",
       "      <td>1</td>\n",
       "      <td>john</td>\n",
       "      <td>45.0</td>\n",
       "      <td>56.0</td>\n",
       "      <td>3457</td>\n",
       "      <td>1</td>\n",
       "      <td>1</td>\n",
       "      <td>45.0</td>\n",
       "      <td>2023-06-22 18:37:15.684384</td>\n",
       "      <td>-155509.0</td>\n",
       "    </tr>\n",
       "    <tr>\n",
       "      <th>1</th>\n",
       "      <td>2</td>\n",
       "      <td>kim</td>\n",
       "      <td>56.0</td>\n",
       "      <td>89.0</td>\n",
       "      <td>7899</td>\n",
       "      <td>2</td>\n",
       "      <td>2</td>\n",
       "      <td>34.0</td>\n",
       "      <td>2023-06-22 18:38:07.962995</td>\n",
       "      <td>-442255.0</td>\n",
       "    </tr>\n",
       "    <tr>\n",
       "      <th>2</th>\n",
       "      <td>4</td>\n",
       "      <td>tissue</td>\n",
       "      <td>45.0</td>\n",
       "      <td>56.0</td>\n",
       "      <td>87</td>\n",
       "      <td>3</td>\n",
       "      <td>4</td>\n",
       "      <td>89.0</td>\n",
       "      <td>2023-06-22 18:39:22.898928</td>\n",
       "      <td>-3859.0</td>\n",
       "    </tr>\n",
       "    <tr>\n",
       "      <th>3</th>\n",
       "      <td>3</td>\n",
       "      <td>milk</td>\n",
       "      <td>34.0</td>\n",
       "      <td>67.0</td>\n",
       "      <td>34456</td>\n",
       "      <td>4</td>\n",
       "      <td>3</td>\n",
       "      <td>567.0</td>\n",
       "      <td>2023-06-22 18:39:49.750845</td>\n",
       "      <td>-1171437.0</td>\n",
       "    </tr>\n",
       "    <tr>\n",
       "      <th>4</th>\n",
       "      <td>1</td>\n",
       "      <td>john</td>\n",
       "      <td>45.0</td>\n",
       "      <td>56.0</td>\n",
       "      <td>3457</td>\n",
       "      <td>5</td>\n",
       "      <td>1</td>\n",
       "      <td>576.0</td>\n",
       "      <td>2023-06-22 20:22:40.404530</td>\n",
       "      <td>-155509.0</td>\n",
       "    </tr>\n",
       "    <tr>\n",
       "      <th>5</th>\n",
       "      <td>3</td>\n",
       "      <td>milk</td>\n",
       "      <td>34.0</td>\n",
       "      <td>67.0</td>\n",
       "      <td>34456</td>\n",
       "      <td>6</td>\n",
       "      <td>3</td>\n",
       "      <td>987.0</td>\n",
       "      <td>2023-06-22 20:22:48.808066</td>\n",
       "      <td>-1171437.0</td>\n",
       "    </tr>\n",
       "    <tr>\n",
       "      <th>6</th>\n",
       "      <td>1</td>\n",
       "      <td>john</td>\n",
       "      <td>45.0</td>\n",
       "      <td>56.0</td>\n",
       "      <td>3457</td>\n",
       "      <td>7</td>\n",
       "      <td>1</td>\n",
       "      <td>642.0</td>\n",
       "      <td>2023-06-22 20:30:44.261793</td>\n",
       "      <td>-155509.0</td>\n",
       "    </tr>\n",
       "    <tr>\n",
       "      <th>7</th>\n",
       "      <td>6</td>\n",
       "      <td>wet wipes</td>\n",
       "      <td>56.0</td>\n",
       "      <td>80.0</td>\n",
       "      <td>565678</td>\n",
       "      <td>8</td>\n",
       "      <td>6</td>\n",
       "      <td>120.0</td>\n",
       "      <td>2023-06-23 17:48:12.334315</td>\n",
       "      <td>-31677888.0</td>\n",
       "    </tr>\n",
       "    <tr>\n",
       "      <th>8</th>\n",
       "      <td>1</td>\n",
       "      <td>john</td>\n",
       "      <td>45.0</td>\n",
       "      <td>56.0</td>\n",
       "      <td>3457</td>\n",
       "      <td>9</td>\n",
       "      <td>1</td>\n",
       "      <td>543.0</td>\n",
       "      <td>2023-06-23 17:48:31.006963</td>\n",
       "      <td>-155509.0</td>\n",
       "    </tr>\n",
       "    <tr>\n",
       "      <th>9</th>\n",
       "      <td>3</td>\n",
       "      <td>milk</td>\n",
       "      <td>34.0</td>\n",
       "      <td>67.0</td>\n",
       "      <td>34456</td>\n",
       "      <td>10</td>\n",
       "      <td>3</td>\n",
       "      <td>695.0</td>\n",
       "      <td>2023-06-23 17:49:44.029834</td>\n",
       "      <td>-1171437.0</td>\n",
       "    </tr>\n",
       "    <tr>\n",
       "      <th>10</th>\n",
       "      <td>5</td>\n",
       "      <td>maize flour</td>\n",
       "      <td>123.0</td>\n",
       "      <td>450.0</td>\n",
       "      <td>566877</td>\n",
       "      <td>11</td>\n",
       "      <td>5</td>\n",
       "      <td>234.0</td>\n",
       "      <td>2023-06-23 17:50:02.258185</td>\n",
       "      <td>-69725421.0</td>\n",
       "    </tr>\n",
       "    <tr>\n",
       "      <th>11</th>\n",
       "      <td>6</td>\n",
       "      <td>wet wipes</td>\n",
       "      <td>56.0</td>\n",
       "      <td>80.0</td>\n",
       "      <td>565678</td>\n",
       "      <td>12</td>\n",
       "      <td>6</td>\n",
       "      <td>908.0</td>\n",
       "      <td>2023-06-23 17:50:16.290477</td>\n",
       "      <td>-31677888.0</td>\n",
       "    </tr>\n",
       "    <tr>\n",
       "      <th>12</th>\n",
       "      <td>4</td>\n",
       "      <td>tissue</td>\n",
       "      <td>45.0</td>\n",
       "      <td>56.0</td>\n",
       "      <td>87</td>\n",
       "      <td>13</td>\n",
       "      <td>4</td>\n",
       "      <td>765.0</td>\n",
       "      <td>2023-06-23 17:50:29.129704</td>\n",
       "      <td>-3859.0</td>\n",
       "    </tr>\n",
       "    <tr>\n",
       "      <th>13</th>\n",
       "      <td>7</td>\n",
       "      <td>wheat flour</td>\n",
       "      <td>78.0</td>\n",
       "      <td>150.0</td>\n",
       "      <td>537</td>\n",
       "      <td>14</td>\n",
       "      <td>7</td>\n",
       "      <td>87.0</td>\n",
       "      <td>2023-06-29 18:33:42.691096</td>\n",
       "      <td>-41736.0</td>\n",
       "    </tr>\n",
       "    <tr>\n",
       "      <th>14</th>\n",
       "      <td>43</td>\n",
       "      <td>Pate - Liver</td>\n",
       "      <td>49.0</td>\n",
       "      <td>68.6</td>\n",
       "      <td>90</td>\n",
       "      <td>15</td>\n",
       "      <td>43</td>\n",
       "      <td>382.0</td>\n",
       "      <td>2022-12-07 00:00:00.000000</td>\n",
       "      <td>-4341.4</td>\n",
       "    </tr>\n",
       "  </tbody>\n",
       "</table>\n",
       "</div>"
      ],
      "text/plain": [
       "    id          name  buying_price  selling_price  stock_quantity  id  pid  \\\n",
       "0    1          john          45.0           56.0            3457   1    1   \n",
       "1    2           kim          56.0           89.0            7899   2    2   \n",
       "2    4        tissue          45.0           56.0              87   3    4   \n",
       "3    3          milk          34.0           67.0           34456   4    3   \n",
       "4    1          john          45.0           56.0            3457   5    1   \n",
       "5    3          milk          34.0           67.0           34456   6    3   \n",
       "6    1          john          45.0           56.0            3457   7    1   \n",
       "7    6     wet wipes          56.0           80.0          565678   8    6   \n",
       "8    1          john          45.0           56.0            3457   9    1   \n",
       "9    3          milk          34.0           67.0           34456  10    3   \n",
       "10   5   maize flour         123.0          450.0          566877  11    5   \n",
       "11   6     wet wipes          56.0           80.0          565678  12    6   \n",
       "12   4        tissue          45.0           56.0              87  13    4   \n",
       "13   7   wheat flour          78.0          150.0             537  14    7   \n",
       "14  43  Pate - Liver          49.0           68.6              90  15   43   \n",
       "\n",
       "    quantity                 created_at      profit  \n",
       "0       45.0 2023-06-22 18:37:15.684384   -155509.0  \n",
       "1       34.0 2023-06-22 18:38:07.962995   -442255.0  \n",
       "2       89.0 2023-06-22 18:39:22.898928     -3859.0  \n",
       "3      567.0 2023-06-22 18:39:49.750845  -1171437.0  \n",
       "4      576.0 2023-06-22 20:22:40.404530   -155509.0  \n",
       "5      987.0 2023-06-22 20:22:48.808066  -1171437.0  \n",
       "6      642.0 2023-06-22 20:30:44.261793   -155509.0  \n",
       "7      120.0 2023-06-23 17:48:12.334315 -31677888.0  \n",
       "8      543.0 2023-06-23 17:48:31.006963   -155509.0  \n",
       "9      695.0 2023-06-23 17:49:44.029834  -1171437.0  \n",
       "10     234.0 2023-06-23 17:50:02.258185 -69725421.0  \n",
       "11     908.0 2023-06-23 17:50:16.290477 -31677888.0  \n",
       "12     765.0 2023-06-23 17:50:29.129704     -3859.0  \n",
       "13      87.0 2023-06-29 18:33:42.691096    -41736.0  \n",
       "14     382.0 2022-12-07 00:00:00.000000     -4341.4  "
      ]
     },
     "execution_count": 77,
     "metadata": {},
     "output_type": "execute_result"
    }
   ],
   "source": [
    "df.head(15)"
   ]
  },
  {
   "cell_type": "code",
   "execution_count": null,
   "id": "1ee58ab5",
   "metadata": {},
   "outputs": [],
   "source": []
  }
 ],
 "metadata": {
  "kernelspec": {
   "display_name": "Python 3 (ipykernel)",
   "language": "python",
   "name": "python3"
  },
  "language_info": {
   "codemirror_mode": {
    "name": "ipython",
    "version": 3
   },
   "file_extension": ".py",
   "mimetype": "text/x-python",
   "name": "python",
   "nbconvert_exporter": "python",
   "pygments_lexer": "ipython3",
   "version": "3.10.9"
  }
 },
 "nbformat": 4,
 "nbformat_minor": 5
}
